{
 "cells": [
  {
   "cell_type": "code",
   "execution_count": 1,
   "metadata": {},
   "outputs": [],
   "source": [
    "import random\n",
    "import math"
   ]
  },
  {
   "cell_type": "code",
   "execution_count": 3,
   "metadata": {},
   "outputs": [],
   "source": [
    "def simulated_annealing(obj_fun, init_sol, init_temp, min_temp, cooling_rate):\n",
    "  # Set the initial solution and temperature\n",
    "  curr_sol = init_sol\n",
    "  curr_energy = obj_fun(init_sol)\n",
    "  curr_temp = init_temp\n",
    "\n",
    "  # Initialise the best solution found so far\n",
    "  best_sol = curr_sol\n",
    "  best_energy = curr_energy\n",
    "\n",
    "  loop = 0\n",
    "  # Loop until the temperature is below the minimum value\n",
    "  while curr_temp > min_temp:\n",
    "    if loop == 3:\n",
    "      return best_sol\n",
    "    # Choose a new solution randomly\n",
    "    new_sol = [random.uniform(-10, 10) for _ in range(len(init_sol))]\n",
    "    new_energy = obj_fun(new_sol)\n",
    "\n",
    "    # Calculate the energy difference between the current solution and the n\n",
    "    delta_energy = new_energy - curr_energy\n",
    "\n",
    "    # If the new solution has a lower energy accept it as the current solution\n",
    "    if delta_energy < 0:\n",
    "        curr_sol = new_sol\n",
    "        curr_energy = new_energy\n",
    "\n",
    "    # If the new solution has a higher energy, accept it with a probability\n",
    "    else:\n",
    "      acceptance_prob = math.exp(-delta_energy/curr_temp)\n",
    "      if random.random() < acceptance_prob:\n",
    "        curr_sol = new_sol\n",
    "        curr_energy = new_energy\n",
    "\n",
    "    # Update the best solution found so far\n",
    "    if curr_energy < best_energy:\n",
    "      best_sol = curr_sol\n",
    "      best_energy = curr_energy\n",
    "\n",
    "    # Decrease the temperature according to a cooling schedule\n",
    "    curr_temp *= cooling_rate\n",
    "    loop += 1\n",
    "  # return the best solution found\n",
    "  return best_sol"
   ]
  }
 ],
 "metadata": {
  "kernelspec": {
   "display_name": "machine-learning",
   "language": "python",
   "name": "python3"
  },
  "language_info": {
   "codemirror_mode": {
    "name": "ipython",
    "version": 3
   },
   "file_extension": ".py",
   "mimetype": "text/x-python",
   "name": "python",
   "nbconvert_exporter": "python",
   "pygments_lexer": "ipython3",
   "version": "3.9.16"
  },
  "orig_nbformat": 4
 },
 "nbformat": 4,
 "nbformat_minor": 2
}
