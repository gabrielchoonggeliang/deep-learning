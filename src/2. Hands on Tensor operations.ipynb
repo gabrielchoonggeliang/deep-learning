{
 "cells": [
  {
   "cell_type": "code",
   "execution_count": 1,
   "id": "26881d5a",
   "metadata": {},
   "outputs": [],
   "source": [
    "import torch"
   ]
  },
  {
   "cell_type": "markdown",
   "id": "fcf92b69",
   "metadata": {},
   "source": [
    "# Tensor Initialisation"
   ]
  },
  {
   "cell_type": "code",
   "execution_count": 2,
   "id": "1e299465",
   "metadata": {},
   "outputs": [
    {
     "name": "stdout",
     "output_type": "stream",
     "text": [
      "tensor([0.])\n"
     ]
    }
   ],
   "source": [
    "# torch.empty(size): uninitiallized\n",
    "x = torch.empty(1) # scalar\n",
    "print(x)"
   ]
  },
  {
   "cell_type": "code",
   "execution_count": 3,
   "id": "6607a09c",
   "metadata": {},
   "outputs": [
    {
     "name": "stdout",
     "output_type": "stream",
     "text": [
      "tensor([0., 0., 0.])\n"
     ]
    }
   ],
   "source": [
    "x = torch.empty(3) # vector, 1D\n",
    "print(x)"
   ]
  },
  {
   "cell_type": "code",
   "execution_count": 4,
   "id": "f64cb63d",
   "metadata": {},
   "outputs": [
    {
     "name": "stdout",
     "output_type": "stream",
     "text": [
      "tensor([[0., 0., 0.],\n",
      "        [0., 0., 0.]])\n"
     ]
    }
   ],
   "source": [
    "x = torch.empty(2,3) # matrix, 2D\n",
    "print(x)"
   ]
  },
  {
   "cell_type": "code",
   "execution_count": 5,
   "id": "5d6aa039",
   "metadata": {},
   "outputs": [
    {
     "name": "stdout",
     "output_type": "stream",
     "text": [
      "tensor([[[0., 0., 0.],\n",
      "         [0., 0., 0.]],\n",
      "\n",
      "        [[0., 0., 0.],\n",
      "         [0., 0., 0.]]])\n"
     ]
    }
   ],
   "source": [
    "x = torch.empty(2,2,3) # tensor, 3 dimensions\n",
    "print(x)"
   ]
  },
  {
   "cell_type": "code",
   "execution_count": 6,
   "id": "0e0b80f7",
   "metadata": {},
   "outputs": [
    {
     "name": "stdout",
     "output_type": "stream",
     "text": [
      "tensor([[[[0., 0., 0.],\n",
      "          [0., 0., 0.]],\n",
      "\n",
      "         [[0., 0., 0.],\n",
      "          [0., 0., 0.]]],\n",
      "\n",
      "\n",
      "        [[[0., 0., 0.],\n",
      "          [0., 0., 0.]],\n",
      "\n",
      "         [[0., 0., 0.],\n",
      "          [0., 0., 0.]]]])\n"
     ]
    }
   ],
   "source": [
    "x = torch.empty(2,2,2,3) # tensor, 4 dimensions\n",
    "print(x)"
   ]
  },
  {
   "cell_type": "code",
   "execution_count": 7,
   "id": "4db45b54",
   "metadata": {},
   "outputs": [
    {
     "name": "stdout",
     "output_type": "stream",
     "text": [
      "tensor([[0.0569, 0.7306, 0.2060],\n",
      "        [0.1411, 0.4123, 0.6456],\n",
      "        [0.6659, 0.1046, 0.6089],\n",
      "        [0.4827, 0.9720, 0.5592],\n",
      "        [0.1343, 0.3883, 0.7732]])\n"
     ]
    }
   ],
   "source": [
    "# torch.rand(size): random numbers [0, 1]\n",
    "x = torch.rand(5, 3)\n",
    "print(x)"
   ]
  },
  {
   "cell_type": "code",
   "execution_count": 8,
   "id": "724043b1",
   "metadata": {},
   "outputs": [
    {
     "name": "stdout",
     "output_type": "stream",
     "text": [
      "tensor([[0., 0., 0.],\n",
      "        [0., 0., 0.],\n",
      "        [0., 0., 0.],\n",
      "        [0., 0., 0.],\n",
      "        [0., 0., 0.]])\n"
     ]
    }
   ],
   "source": [
    "# torch.zeros(size), fill with 0\n",
    "x = torch.zeros(5, 3)\n",
    "print(x)"
   ]
  },
  {
   "cell_type": "code",
   "execution_count": 9,
   "id": "95d778eb",
   "metadata": {},
   "outputs": [
    {
     "name": "stdout",
     "output_type": "stream",
     "text": [
      "torch.Size([5, 3])\n"
     ]
    }
   ],
   "source": [
    "# check size\n",
    "print(x.size())"
   ]
  },
  {
   "cell_type": "code",
   "execution_count": 10,
   "id": "340cd45f",
   "metadata": {},
   "outputs": [
    {
     "name": "stdout",
     "output_type": "stream",
     "text": [
      "torch.float32\n"
     ]
    }
   ],
   "source": [
    "# check data type\n",
    "print(x.dtype)"
   ]
  },
  {
   "cell_type": "code",
   "execution_count": 11,
   "id": "1b6457ee",
   "metadata": {},
   "outputs": [
    {
     "name": "stdout",
     "output_type": "stream",
     "text": [
      "tensor([[0., 0., 0.],\n",
      "        [0., 0., 0.],\n",
      "        [0., 0., 0.],\n",
      "        [0., 0., 0.],\n",
      "        [0., 0., 0.]], dtype=torch.float16)\n"
     ]
    }
   ],
   "source": [
    "# specify types, float32 default\n",
    "x = torch.zeros(5, 3, dtype=torch.float16)\n",
    "print(x)"
   ]
  },
  {
   "cell_type": "code",
   "execution_count": 12,
   "id": "8a1140c0",
   "metadata": {},
   "outputs": [
    {
     "name": "stdout",
     "output_type": "stream",
     "text": [
      "torch.float16\n"
     ]
    }
   ],
   "source": [
    "# check type\n",
    "print(x.dtype)"
   ]
  },
  {
   "cell_type": "code",
   "execution_count": 13,
   "id": "cb4bf1da",
   "metadata": {},
   "outputs": [
    {
     "name": "stdout",
     "output_type": "stream",
     "text": [
      "torch.Size([2])\n"
     ]
    }
   ],
   "source": [
    "# construct from data\n",
    "x = torch.tensor([5.5, 3])\n",
    "print(x.size())"
   ]
  },
  {
   "cell_type": "code",
   "execution_count": 14,
   "id": "fe719c83",
   "metadata": {},
   "outputs": [
    {
     "name": "stdout",
     "output_type": "stream",
     "text": [
      "tensor([5.5000, 3.0000], requires_grad=True)\n"
     ]
    }
   ],
   "source": [
    "# requires_grad argument\n",
    "x = torch.tensor([5.5, 3], requires_grad=True)\n",
    "print (x)"
   ]
  },
  {
   "cell_type": "markdown",
   "id": "080665c2",
   "metadata": {},
   "source": [
    "# Operation on Tensors"
   ]
  },
  {
   "cell_type": "code",
   "execution_count": 15,
   "id": "b57e5998",
   "metadata": {},
   "outputs": [
    {
     "name": "stdout",
     "output_type": "stream",
     "text": [
      "Value of z: 17.0\n",
      "Gradient for x (requires_grad=True): tensor([1., 1.])\n",
      "Gradient for y (requires_grad=False): None\n"
     ]
    }
   ],
   "source": [
    "# Define tensors\n",
    "x = torch.tensor([5.5, 3], requires_grad=True)  # Tensor with gradient tracking\n",
    "y = torch.tensor([5.5, 3], requires_grad=False) # Tensor without gradient tracking\n",
    "\n",
    "# Perform an operation\n",
    "z = x.sum() + y.sum()\n",
    "print(\"Value of z:\", z.item())\n",
    "\n",
    "# Backward pass to compute gradients\n",
    "z.backward()\n",
    "\n",
    "# Print gradients\n",
    "print(\"Gradient for x (requires_grad=True):\", x.grad)\n",
    "print(\"Gradient for y (requires_grad=False):\", y.grad)"
   ]
  },
  {
   "cell_type": "code",
   "execution_count": 16,
   "id": "e6ee985a",
   "metadata": {},
   "outputs": [
    {
     "name": "stdout",
     "output_type": "stream",
     "text": [
      "tensor([[0.5542, 0.5852],\n",
      "        [0.4905, 0.0297]])\n",
      "tensor([[0.1985, 0.8337],\n",
      "        [0.6419, 0.2677]])\n",
      "tensor([[0.7527, 1.4189],\n",
      "        [1.1324, 0.2974]])\n"
     ]
    }
   ],
   "source": [
    "# Operations on Tensors\n",
    "y = torch.rand(2, 2)\n",
    "x = torch.rand(2, 2)\n",
    "print (x)\n",
    "print (y)\n",
    "# elementwise addition\n",
    "z = x + y\n",
    "# torch.add(x,y) \n",
    "print (z)"
   ]
  },
  {
   "cell_type": "code",
   "execution_count": 17,
   "id": "ff695b96",
   "metadata": {},
   "outputs": [
    {
     "name": "stdout",
     "output_type": "stream",
     "text": [
      "tensor([[0.0246, 0.3834],\n",
      "        [0.8927, 0.6488]])\n",
      "tensor([[0.4064, 0.8959],\n",
      "        [0.4785, 0.7971]])\n",
      "tensor([[-0.3818, -0.5125],\n",
      "        [ 0.4142, -0.1483]])\n"
     ]
    }
   ],
   "source": [
    "# subtraction\n",
    "y = torch.rand(2, 2)\n",
    "x = torch.rand(2, 2)\n",
    "print (x)\n",
    "print (y)\n",
    "z = x - y\n",
    "z = torch.sub(x, y)\n",
    "print (z)"
   ]
  },
  {
   "cell_type": "code",
   "execution_count": 18,
   "id": "4c2015d3",
   "metadata": {},
   "outputs": [
    {
     "name": "stdout",
     "output_type": "stream",
     "text": [
      "tensor([[0.1538, 0.8946],\n",
      "        [0.9987, 0.1703]])\n",
      "tensor([[0.8836, 0.1529],\n",
      "        [0.7192, 0.8987]])\n",
      "tensor([[0.1359, 0.1367],\n",
      "        [0.7183, 0.1530]])\n"
     ]
    }
   ],
   "source": [
    "# multiplication\n",
    "y = torch.rand(2, 2)\n",
    "x = torch.rand(2, 2)\n",
    "print (x)\n",
    "print (y)\n",
    "z = x * y\n",
    "z = torch.mul(x,y)\n",
    "print (z)\n"
   ]
  },
  {
   "cell_type": "code",
   "execution_count": 19,
   "id": "38d01bf3",
   "metadata": {},
   "outputs": [
    {
     "name": "stdout",
     "output_type": "stream",
     "text": [
      "tensor([[0.3369, 0.8256],\n",
      "        [0.3627, 0.9826]])\n",
      "tensor([[0.7479, 0.1253],\n",
      "        [0.4038, 0.9809]])\n",
      "tensor([[0.4505, 6.5914],\n",
      "        [0.8983, 1.0017]])\n"
     ]
    }
   ],
   "source": [
    "# division\n",
    "y = torch.rand(2, 2)\n",
    "x = torch.rand(2, 2)\n",
    "print (x)\n",
    "print (y)\n",
    "z1 = x / y\n",
    "z1 = torch.div(x,y)\n",
    "print(z1)"
   ]
  },
  {
   "cell_type": "markdown",
   "id": "e78f1048",
   "metadata": {},
   "source": [
    "# Slicing"
   ]
  },
  {
   "cell_type": "code",
   "execution_count": 20,
   "id": "4458f271",
   "metadata": {},
   "outputs": [
    {
     "name": "stdout",
     "output_type": "stream",
     "text": [
      "Slicing\n",
      "tensor([[0.9706, 0.2571, 0.4836],\n",
      "        [0.8216, 0.7808, 0.9137],\n",
      "        [0.8111, 0.7942, 0.8295],\n",
      "        [0.5085, 0.4842, 0.9142],\n",
      "        [0.2302, 0.7142, 0.4694]])\n",
      "tensor([0.9706, 0.8216, 0.8111, 0.5085, 0.2302])\n",
      "tensor([0.8216, 0.7808, 0.9137])\n",
      "tensor(0.7808)\n",
      "0.7807950973510742\n"
     ]
    }
   ],
   "source": [
    "#Slicing\n",
    "x = torch.rand(5,3)\n",
    "print(\"Slicing\")\n",
    "print(x)\n",
    "print(x[:, 0]) # all rows, column 0\n",
    "print(x[1, :]) # row 1, all columns\n",
    "print(x[1,1]) # element at 1, 1\n",
    "\n",
    "# Get the actual value if only 1 element in your tensor\n",
    "print(x[1,1].item())"
   ]
  },
  {
   "cell_type": "markdown",
   "id": "d3fbb2a3",
   "metadata": {},
   "source": [
    "# Reshaping Tensors"
   ]
  },
  {
   "cell_type": "code",
   "execution_count": 21,
   "id": "5a89e5b9",
   "metadata": {},
   "outputs": [
    {
     "name": "stdout",
     "output_type": "stream",
     "text": [
      "tensor([[-0.3667, -1.8421,  0.3171,  0.7261],\n",
      "        [-0.0821,  1.1064,  0.8711, -0.6101],\n",
      "        [-1.1239, -0.8854, -0.1076, -0.6568],\n",
      "        [ 0.8878,  0.5640,  1.4915,  1.0753]])\n",
      "tensor([-0.3667, -1.8421,  0.3171,  0.7261, -0.0821,  1.1064,  0.8711, -0.6101,\n",
      "        -1.1239, -0.8854, -0.1076, -0.6568,  0.8878,  0.5640,  1.4915,  1.0753])\n",
      "tensor([[-0.3667, -1.8421,  0.3171,  0.7261, -0.0821,  1.1064,  0.8711, -0.6101],\n",
      "        [-1.1239, -0.8854, -0.1076, -0.6568,  0.8878,  0.5640,  1.4915,  1.0753]])\n",
      "torch.Size([4, 4]) torch.Size([16]) torch.Size([2, 8])\n"
     ]
    }
   ],
   "source": [
    "# Reshape with torch.view()\n",
    "x = torch.randn(4, 4)\n",
    "y = x.view(16)\n",
    "z = x.view(-1, 8)  # the size -1 is inferred from other dimensions\n",
    "print(x)\n",
    "print(y)\n",
    "print(z)\n",
    "# if -1 it pytorch will automatically determine the necessary size\n",
    "print(x.size(), y.size(), z.size())"
   ]
  },
  {
   "cell_type": "markdown",
   "id": "74546d98",
   "metadata": {},
   "source": [
    "# NumPy"
   ]
  },
  {
   "cell_type": "code",
   "execution_count": 22,
   "id": "dc6e0972",
   "metadata": {},
   "outputs": [
    {
     "name": "stdout",
     "output_type": "stream",
     "text": [
      "tensor([1., 1., 1., 1., 1.])\n",
      "[1. 1. 1. 1. 1.]\n",
      "<class 'numpy.ndarray'>\n",
      "tensor([2., 2., 2., 2., 2.])\n",
      "[2. 2. 2. 2. 2.]\n"
     ]
    }
   ],
   "source": [
    "# Numpy\n",
    "a = torch.ones(5)\n",
    "print(a)\n",
    "\n",
    "b = a.numpy()\n",
    "print(b)\n",
    "print(type(b))\n",
    "\n",
    "# If the Tensor is on the CPU, they will share the same memory location\n",
    "a.add_(1)\n",
    "print(a)\n",
    "print(b)"
   ]
  },
  {
   "cell_type": "code",
   "execution_count": 23,
   "id": "cb4d415c",
   "metadata": {},
   "outputs": [
    {
     "name": "stdout",
     "output_type": "stream",
     "text": [
      "Numpy to Torch\n",
      "[1. 1. 1. 1. 1.]\n",
      "tensor([1., 1., 1., 1., 1.], dtype=torch.float64)\n"
     ]
    }
   ],
   "source": [
    "# Numpy to Torch\n",
    "print(\"Numpy to Torch\")\n",
    "import numpy as np\n",
    "a = np.ones(5)\n",
    "b = torch.from_numpy(a)\n",
    "print(a)\n",
    "print(b)\n"
   ]
  },
  {
   "cell_type": "code",
   "execution_count": 24,
   "id": "92eb3b05",
   "metadata": {},
   "outputs": [
    {
     "name": "stdout",
     "output_type": "stream",
     "text": [
      "[2. 2. 2. 2. 2.]\n",
      "tensor([2., 2., 2., 2., 2.], dtype=torch.float64)\n"
     ]
    }
   ],
   "source": [
    "#They also share same memory\n",
    "a += 1\n",
    "print(a)\n",
    "print(b)"
   ]
  },
  {
   "cell_type": "markdown",
   "id": "badfac54",
   "metadata": {},
   "source": [
    "# Autograd Package"
   ]
  },
  {
   "cell_type": "code",
   "execution_count": 25,
   "id": "35cfb478",
   "metadata": {},
   "outputs": [
    {
     "name": "stdout",
     "output_type": "stream",
     "text": [
      "Autograd Package\n",
      "tensor(12., grad_fn=<SumBackward0>)\n",
      "tensor([3., 3., 3., 3.])\n",
      "tensor([1., 1., 1., 1.], requires_grad=True)\n",
      "tensor([0.7000, 0.7000, 0.7000, 0.7000], requires_grad=True)\n",
      "tensor(8.4000, grad_fn=<SumBackward0>)\n",
      "tensor([3., 3., 3., 3.])\n",
      "tensor([0.7000, 0.7000, 0.7000, 0.7000], requires_grad=True)\n",
      "tensor([0.4000, 0.4000, 0.4000, 0.4000], requires_grad=True)\n",
      "tensor(4.8000, grad_fn=<SumBackward0>)\n",
      "tensor([3., 3., 3., 3.])\n",
      "tensor([0.4000, 0.4000, 0.4000, 0.4000], requires_grad=True)\n",
      "tensor([0.1000, 0.1000, 0.1000, 0.1000], requires_grad=True)\n",
      "tensor([0.1000, 0.1000, 0.1000, 0.1000], requires_grad=True)\n",
      "tensor(4.8000, grad_fn=<SumBackward0>)\n"
     ]
    }
   ],
   "source": [
    "# The Autograd Package\n",
    "print(\"Autograd Package\")\n",
    "weights = torch.ones(4, requires_grad=True)\n",
    "\n",
    "for epoch in range(3):\n",
    "\n",
    "    random = False\n",
    "    if random:    \n",
    "        random_inputs = torch.randn(4)\n",
    "        print(random_inputs)\n",
    "    else:\n",
    "        random_inputs = 3\n",
    "\n",
    "    # just a dummy example\n",
    "    model_output = (weights*random_inputs).sum() # [1,1,1,1]*3 = [3,3,3,3] => 3*4 = 12\n",
    "    print(model_output)\n",
    "    \n",
    "    model_output.backward() # calculate gradients \n",
    "    print(weights.grad) # dLoss/dw\n",
    "    print(weights)\n",
    "\n",
    "    with torch.no_grad():\n",
    "        weights -= 0.1 * weights.grad\n",
    "        print(weights)\n",
    "\n",
    "    # this is important! It affects the final weights & output\n",
    "    weights.grad.zero_() # the gradient will accumulate otherwise\n",
    "\n",
    "print(weights)\n",
    "print(model_output)"
   ]
  }
 ],
 "metadata": {
  "kernelspec": {
   "display_name": "Python 3 (ipykernel)",
   "language": "python",
   "name": "python3"
  },
  "language_info": {
   "codemirror_mode": {
    "name": "ipython",
    "version": 3
   },
   "file_extension": ".py",
   "mimetype": "text/x-python",
   "name": "python",
   "nbconvert_exporter": "python",
   "pygments_lexer": "ipython3",
   "version": "3.8.17"
  }
 },
 "nbformat": 4,
 "nbformat_minor": 5
}
