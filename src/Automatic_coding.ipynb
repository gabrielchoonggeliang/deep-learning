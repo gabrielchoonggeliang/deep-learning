{
 "cells": [
  {
   "cell_type": "code",
   "execution_count": 239,
   "metadata": {},
   "outputs": [
    {
     "name": "stdout",
     "output_type": "stream",
     "text": [
      "tensor([[1.],\n",
      "        [2.],\n",
      "        [3.],\n",
      "        [4.]])\n",
      "tensor([[ 3.],\n",
      "        [ 6.],\n",
      "        [ 9.],\n",
      "        [12.]])\n"
     ]
    }
   ],
   "source": [
    "# Construct a simple Linear Regression model\n",
    "# Define the data\n",
    "# Design model (input, output, forward pass with layers)\n",
    "# construct loss and optimiser\n",
    "# Training loop\n",
    "  # forward to compute prediction and loss\n",
    "  # backward to compute gradients\n",
    "  #update weights\n",
    "  \n",
    "import torch\n",
    "import torch.nn as nn\n",
    "\n",
    "# Training samples\n",
    "X = torch.tensor ([[1], [2], [3], [4]], dtype=torch.float32)\n",
    "Y = torch.tensor ([[3], [6], [9], [12]], dtype=torch.float32)\n",
    "print(X)\n",
    "print(Y)"
   ]
  },
  {
   "cell_type": "code",
   "execution_count": 240,
   "metadata": {},
   "outputs": [
    {
     "name": "stdout",
     "output_type": "stream",
     "text": [
      "#samples: 4, #features: 1\n"
     ]
    }
   ],
   "source": [
    "n_samples, n_features = X.shape\n",
    "print(f'#samples: {n_samples}, #features: {n_features}')"
   ]
  },
  {
   "cell_type": "code",
   "execution_count": 241,
   "metadata": {},
   "outputs": [
    {
     "name": "stdout",
     "output_type": "stream",
     "text": [
      "tensor([12.])\n"
     ]
    }
   ],
   "source": [
    "# createa a test sample\n",
    "X_test = torch.tensor([12], dtype=torch.float32)\n",
    "print(X_test)"
   ]
  },
  {
   "cell_type": "code",
   "execution_count": 242,
   "metadata": {},
   "outputs": [
    {
     "name": "stdout",
     "output_type": "stream",
     "text": [
      "1\n",
      "1\n"
     ]
    }
   ],
   "source": [
    "# Design model\n",
    "input_size = n_features\n",
    "output_size = n_features\n",
    "print(input_size)\n",
    "print(output_size)"
   ]
  },
  {
   "cell_type": "code",
   "execution_count": 243,
   "metadata": {},
   "outputs": [
    {
     "name": "stdout",
     "output_type": "stream",
     "text": [
      "prediction before training: f(10) = -8.205\n"
     ]
    }
   ],
   "source": [
    "# we call the model\n",
    "model = nn.Linear(input_size, output_size)\n",
    "\n",
    "\"\"\"\n",
    "class LinearRegression(nn.Module):\n",
    "  def __init__(self, input_dim, output_dim):\n",
    "    super(LinearRegression, self).__init__()\n",
    "    # define different layers\n",
    "    self.lin = nn.Linear(input_dim, output_dim)\n",
    "  def forward(self, x):\n",
    "    return self.lin(x)\n",
    "model = LinearRegression(input-size, output_size)\n",
    "\"\"\"\n",
    "\n",
    "\n",
    "print(f'prediction before training: f(10) = {model(X_test).item():.3f}')"
   ]
  },
  {
   "cell_type": "code",
   "execution_count": 244,
   "metadata": {},
   "outputs": [],
   "source": [
    "# Define Loss and optimiser\n",
    "learning_rate = 0.01\n",
    "n_iters = 100\n",
    "\n",
    "loss = nn.MSELoss()\n",
    "optimiser = torch.optim.SGD(model.parameters(), lr=learning_rate)"
   ]
  },
  {
   "cell_type": "code",
   "execution_count": 245,
   "metadata": {},
   "outputs": [
    {
     "name": "stdout",
     "output_type": "stream",
     "text": [
      "epoch 1 : w = -0.11044466495513916 loss =  tensor(104.1629, grad_fn=<MseLossBackward0>)\n",
      "epoch 11 : w = 2.234788417816162 loss =  tensor(2.8374, grad_fn=<MseLossBackward0>)\n",
      "epoch 21 : w = 2.6198418140411377 loss =  tensor(0.2075, grad_fn=<MseLossBackward0>)\n",
      "epoch 31 : w = 2.68937087059021 loss =  tensor(0.1317, grad_fn=<MseLossBackward0>)\n",
      "epoch 41 : w = 2.7079238891601562 loss =  tensor(0.1224, grad_fn=<MseLossBackward0>)\n",
      "epoch 51 : w = 2.718059539794922 loss =  tensor(0.1152, grad_fn=<MseLossBackward0>)\n",
      "epoch 61 : w = 2.726630449295044 loss =  tensor(0.1085, grad_fn=<MseLossBackward0>)\n",
      "epoch 71 : w = 2.7347445487976074 loss =  tensor(0.1022, grad_fn=<MseLossBackward0>)\n",
      "epoch 81 : w = 2.742586135864258 loss =  tensor(0.0962, grad_fn=<MseLossBackward0>)\n",
      "epoch 91 : w = 2.7501909732818604 loss =  tensor(0.0906, grad_fn=<MseLossBackward0>)\n",
      "prediction after training: f(12) = 33.797\n"
     ]
    }
   ],
   "source": [
    "# training the model\n",
    "for epoch in range(n_iters):\n",
    "\n",
    "# predict = forward pass with our mode\n",
    "  y_predicted = model(X)\n",
    "\n",
    "# loss\n",
    "  l = loss(Y, y_predicted)\n",
    "\n",
    "# calculate gradients = backward pass\n",
    "  l.backward()\n",
    "\n",
    "# update weights\n",
    "  optimiser.step()\n",
    "\n",
    "# zero the gradients after updating\n",
    "  optimiser.zero_grad()\n",
    "\n",
    "  if epoch % 10 == 0:\n",
    "    [w, b] = model.parameters()\n",
    "    print('epoch', epoch+1, ': w =', w[0][0].item(), 'loss = ', l)\n",
    "\n",
    "print(f'prediction after training: f(12) = {model(X_test).item():.3f}')"
   ]
  },
  {
   "cell_type": "code",
   "execution_count": null,
   "metadata": {},
   "outputs": [],
   "source": []
  }
 ],
 "metadata": {
  "kernelspec": {
   "display_name": "machine-learning",
   "language": "python",
   "name": "python3"
  },
  "language_info": {
   "codemirror_mode": {
    "name": "ipython",
    "version": 3
   },
   "file_extension": ".py",
   "mimetype": "text/x-python",
   "name": "python",
   "nbconvert_exporter": "python",
   "pygments_lexer": "ipython3",
   "version": "3.8.17"
  }
 },
 "nbformat": 4,
 "nbformat_minor": 2
}
