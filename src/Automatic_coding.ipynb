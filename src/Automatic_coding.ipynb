{
 "cells": [
  {
   "cell_type": "code",
   "execution_count": 8,
   "metadata": {},
   "outputs": [
    {
     "name": "stdout",
     "output_type": "stream",
     "text": [
      "tensor([[1.],\n",
      "        [2.],\n",
      "        [3.],\n",
      "        [4.]])\n",
      "tensor([[ 3.],\n",
      "        [ 6.],\n",
      "        [ 9.],\n",
      "        [12.]])\n"
     ]
    }
   ],
   "source": [
    "# Construct a simple Linear Regression model\n",
    "# Define the data\n",
    "# Design model (input, output, forward pass with layers)\n",
    "# construct loss and optimiser\n",
    "# Training loop\n",
    "  # forward to compute prediction and loss\n",
    "  # backward to compute gradients\n",
    "  #update weights\n",
    "  \n",
    "import torch\n",
    "import torch.nn as nn\n",
    "\n",
    "# Training samples\n",
    "X = torch.tensor ([[1], [2], [3], [4]], dtype=torch.float32)\n",
    "Y = torch.tensor ([[3], [6], [9], [12]], dtype=torch.float32)\n",
    "print(X)\n",
    "print(Y)"
   ]
  },
  {
   "cell_type": "code",
   "execution_count": 9,
   "metadata": {},
   "outputs": [
    {
     "name": "stdout",
     "output_type": "stream",
     "text": [
      "#samples: 4, #features: 1\n"
     ]
    }
   ],
   "source": [
    "n_samples, n_features = X.shape\n",
    "print(f'#samples: {n_samples}, #features: {n_features}')"
   ]
  },
  {
   "cell_type": "code",
   "execution_count": 10,
   "metadata": {},
   "outputs": [
    {
     "name": "stdout",
     "output_type": "stream",
     "text": [
      "tensor([12.])\n"
     ]
    }
   ],
   "source": [
    "# createa a test sample\n",
    "X_test = torch.tensor([12], dtype=torch.float32)\n",
    "print(X_test)"
   ]
  },
  {
   "cell_type": "code",
   "execution_count": 11,
   "metadata": {},
   "outputs": [
    {
     "name": "stdout",
     "output_type": "stream",
     "text": [
      "1\n",
      "1\n"
     ]
    }
   ],
   "source": [
    "# Design model\n",
    "input_size = n_features\n",
    "output_size = n_features\n",
    "print(input_size)\n",
    "print(output_size)"
   ]
  },
  {
   "cell_type": "code",
   "execution_count": 12,
   "metadata": {},
   "outputs": [
    {
     "name": "stdout",
     "output_type": "stream",
     "text": [
      "prediction before training: f(10) = 3.711\n"
     ]
    }
   ],
   "source": [
    "# we call the model\n",
    "model = nn.Linear(input_size, output_size)\n",
    "\n",
    "\"\"\"\n",
    "class LinearRegression(nn.Module):\n",
    "  def __init__(self, input_dim, output_dim):\n",
    "    super(LinearRegression, self).__init__()\n",
    "    # define different layers\n",
    "    self.lin = nn.Linear(input_dim, output_dim)\n",
    "  def forward(self, x):\n",
    "    return self.lin(x)\n",
    "model = LinearRegression(input-size, output_size)\n",
    "\"\"\"\n",
    "\n",
    "\n",
    "print(f'prediction before training: f(10) = {model(X_test).item():.3f}')"
   ]
  },
  {
   "cell_type": "code",
   "execution_count": 13,
   "metadata": {},
   "outputs": [],
   "source": [
    "# Define Loss and optimiser\n",
    "learning_rate = 0.01\n",
    "n_iters = 100\n",
    "\n",
    "loss = nn.MSELoss()\n",
    "optimiser = torch.optim.SGD(model.parameters(), lr=learning_rate)"
   ]
  },
  {
   "cell_type": "code",
   "execution_count": 14,
   "metadata": {},
   "outputs": [
    {
     "name": "stdout",
     "output_type": "stream",
     "text": [
      "epoch 1 : w = 0.6234213709831238 loss =  tensor(47.1783, grad_fn=<MseLossBackward0>)\n",
      "epoch 11 : w = 2.2051844596862793 loss =  tensor(1.5660, grad_fn=<MseLossBackward0>)\n",
      "epoch 21 : w = 2.4717957973480225 loss =  tensor(0.3658, grad_fn=<MseLossBackward0>)\n",
      "epoch 31 : w = 2.526505708694458 loss =  tensor(0.3158, grad_fn=<MseLossBackward0>)\n",
      "epoch 41 : w = 2.5467827320098877 loss =  tensor(0.2967, grad_fn=<MseLossBackward0>)\n",
      "epoch 51 : w = 2.5611820220947266 loss =  tensor(0.2794, grad_fn=<MseLossBackward0>)\n",
      "epoch 61 : w = 2.5743072032928467 loss =  tensor(0.2632, grad_fn=<MseLossBackward0>)\n",
      "epoch 71 : w = 2.5869076251983643 loss =  tensor(0.2478, grad_fn=<MseLossBackward0>)\n",
      "epoch 81 : w = 2.599114179611206 loss =  tensor(0.2334, grad_fn=<MseLossBackward0>)\n",
      "epoch 91 : w = 2.6109566688537598 loss =  tensor(0.2198, grad_fn=<MseLossBackward0>)\n",
      "prediction after training: f(12) = 32.569\n"
     ]
    }
   ],
   "source": [
    "# training the model\n",
    "for epoch in range(n_iters):\n",
    "\n",
    "# predict = forward pass with our mode\n",
    "  y_predicted = model(X)\n",
    "\n",
    "# loss\n",
    "  l = loss(Y, y_predicted)\n",
    "\n",
    "# calculate gradients = backward pass\n",
    "  l.backward()\n",
    "\n",
    "# update weights\n",
    "  optimiser.step()\n",
    "\n",
    "# zero the gradients after updating\n",
    "  optimiser.zero_grad()\n",
    "\n",
    "  if epoch % 10 == 0:\n",
    "    [w, b] = model.parameters()\n",
    "    print('epoch', epoch+1, ': w =', w[0][0].item(), 'loss = ', l)\n",
    "\n",
    "print(f'prediction after training: f(12) = {model(X_test).item():.3f}')"
   ]
  },
  {
   "cell_type": "code",
   "execution_count": null,
   "metadata": {},
   "outputs": [],
   "source": []
  }
 ],
 "metadata": {
  "kernelspec": {
   "display_name": "machine-learning",
   "language": "python",
   "name": "python3"
  },
  "language_info": {
   "codemirror_mode": {
    "name": "ipython",
    "version": 3
   },
   "file_extension": ".py",
   "mimetype": "text/x-python",
   "name": "python",
   "nbconvert_exporter": "python",
   "pygments_lexer": "ipython3",
   "version": "3.8.17"
  }
 },
 "nbformat": 4,
 "nbformat_minor": 2
}
