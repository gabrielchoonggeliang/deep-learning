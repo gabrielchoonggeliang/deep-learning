{
 "cells": [
  {
   "cell_type": "code",
   "execution_count": 2,
   "id": "26881d5a",
   "metadata": {},
   "outputs": [],
   "source": [
    "import torch"
   ]
  },
  {
   "cell_type": "code",
   "execution_count": 3,
   "id": "1e299465",
   "metadata": {},
   "outputs": [
    {
     "name": "stdout",
     "output_type": "stream",
     "text": [
      "tensor([0.])\n"
     ]
    }
   ],
   "source": [
    "# torch.empty(size): uninitiallized\n",
    "x = torch.empty(1) # scalar\n",
    "print(x)"
   ]
  },
  {
   "cell_type": "code",
   "execution_count": 4,
   "id": "6607a09c",
   "metadata": {},
   "outputs": [
    {
     "name": "stdout",
     "output_type": "stream",
     "text": [
      "tensor([0., 0., 0.])\n"
     ]
    }
   ],
   "source": [
    "x = torch.empty(3) # vector, 1D\n",
    "print(x)"
   ]
  },
  {
   "cell_type": "code",
   "execution_count": 5,
   "id": "f64cb63d",
   "metadata": {},
   "outputs": [
    {
     "name": "stdout",
     "output_type": "stream",
     "text": [
      "tensor([[2.2726e-37, 6.4460e-43, 2.2726e-37],\n",
      "        [6.4460e-43, 2.2719e-37, 6.4460e-43]])\n"
     ]
    }
   ],
   "source": [
    "x = torch.empty(2,3) # matrix, 2D\n",
    "print(x)"
   ]
  },
  {
   "cell_type": "code",
   "execution_count": 6,
   "id": "5d6aa039",
   "metadata": {},
   "outputs": [
    {
     "name": "stdout",
     "output_type": "stream",
     "text": [
      "tensor([[[0., 0., 0.],\n",
      "         [0., 0., 0.]],\n",
      "\n",
      "        [[0., 0., 0.],\n",
      "         [0., 0., 0.]]])\n"
     ]
    }
   ],
   "source": [
    "x = torch.empty(2,2,3) # tensor, 3 dimensions\n",
    "print(x)"
   ]
  },
  {
   "cell_type": "code",
   "execution_count": 7,
   "id": "0e0b80f7",
   "metadata": {},
   "outputs": [
    {
     "name": "stdout",
     "output_type": "stream",
     "text": [
      "tensor([[[[0., 0., 0.],\n",
      "          [0., 0., 0.]],\n",
      "\n",
      "         [[0., 0., 0.],\n",
      "          [0., 0., 0.]]],\n",
      "\n",
      "\n",
      "        [[[0., 0., 0.],\n",
      "          [0., 0., 0.]],\n",
      "\n",
      "         [[0., 0., 0.],\n",
      "          [0., 0., 0.]]]])\n"
     ]
    }
   ],
   "source": [
    "x = torch.empty(2,2,2,3) # tensor, 4 dimensions\n",
    "print(x)"
   ]
  },
  {
   "cell_type": "code",
   "execution_count": 8,
   "id": "4db45b54",
   "metadata": {},
   "outputs": [
    {
     "name": "stdout",
     "output_type": "stream",
     "text": [
      "tensor([[0.3153, 0.6180, 0.8918],\n",
      "        [0.7918, 0.5268, 0.0336],\n",
      "        [0.6340, 0.6235, 0.6433],\n",
      "        [0.1785, 0.6831, 0.8864],\n",
      "        [0.9716, 0.0831, 0.0300]])\n"
     ]
    }
   ],
   "source": [
    "# torch.rand(size): random numbers [0, 1]\n",
    "x = torch.rand(5, 3)\n",
    "print(x)"
   ]
  },
  {
   "cell_type": "code",
   "execution_count": 9,
   "id": "724043b1",
   "metadata": {},
   "outputs": [
    {
     "name": "stdout",
     "output_type": "stream",
     "text": [
      "tensor([[0., 0., 0.],\n",
      "        [0., 0., 0.],\n",
      "        [0., 0., 0.],\n",
      "        [0., 0., 0.],\n",
      "        [0., 0., 0.]])\n"
     ]
    }
   ],
   "source": [
    "# torch.zeros(size), fill with 0\n",
    "x = torch.zeros(5, 3)\n",
    "print(x)"
   ]
  },
  {
   "cell_type": "code",
   "execution_count": 10,
   "id": "95d778eb",
   "metadata": {},
   "outputs": [
    {
     "name": "stdout",
     "output_type": "stream",
     "text": [
      "torch.Size([5, 3])\n"
     ]
    }
   ],
   "source": [
    "# check size\n",
    "print(x.size())"
   ]
  },
  {
   "cell_type": "code",
   "execution_count": 11,
   "id": "340cd45f",
   "metadata": {},
   "outputs": [
    {
     "name": "stdout",
     "output_type": "stream",
     "text": [
      "torch.float32\n"
     ]
    }
   ],
   "source": [
    "# check data type\n",
    "print(x.dtype)"
   ]
  },
  {
   "cell_type": "code",
   "execution_count": 12,
   "id": "1b6457ee",
   "metadata": {},
   "outputs": [
    {
     "name": "stdout",
     "output_type": "stream",
     "text": [
      "tensor([[0., 0., 0.],\n",
      "        [0., 0., 0.],\n",
      "        [0., 0., 0.],\n",
      "        [0., 0., 0.],\n",
      "        [0., 0., 0.]], dtype=torch.float16)\n"
     ]
    }
   ],
   "source": [
    "# specify types, float32 default\n",
    "x = torch.zeros(5, 3, dtype=torch.float16)\n",
    "print(x)"
   ]
  },
  {
   "cell_type": "code",
   "execution_count": 13,
   "id": "8a1140c0",
   "metadata": {},
   "outputs": [
    {
     "name": "stdout",
     "output_type": "stream",
     "text": [
      "torch.float16\n"
     ]
    }
   ],
   "source": [
    "# check type\n",
    "print(x.dtype)"
   ]
  },
  {
   "cell_type": "code",
   "execution_count": 14,
   "id": "cb4bf1da",
   "metadata": {},
   "outputs": [
    {
     "name": "stdout",
     "output_type": "stream",
     "text": [
      "torch.Size([2])\n"
     ]
    }
   ],
   "source": [
    "# construct from data\n",
    "x = torch.tensor([5.5, 3])\n",
    "print(x.size())"
   ]
  },
  {
   "cell_type": "code",
   "execution_count": 15,
   "id": "fe719c83",
   "metadata": {},
   "outputs": [
    {
     "name": "stdout",
     "output_type": "stream",
     "text": [
      "tensor([5.5000, 3.0000], requires_grad=True)\n"
     ]
    }
   ],
   "source": [
    "# requires_grad argument\n",
    "x = torch.tensor([5.5, 3], requires_grad=True)\n",
    "print (x)"
   ]
  },
  {
   "cell_type": "code",
   "execution_count": 16,
   "id": "b57e5998",
   "metadata": {},
   "outputs": [
    {
     "name": "stdout",
     "output_type": "stream",
     "text": [
      "Value of z: 17.0\n",
      "Gradient for x (requires_grad=True): tensor([1., 1.])\n",
      "Gradient for y (requires_grad=False): None\n"
     ]
    }
   ],
   "source": [
    "# Define tensors\n",
    "x = torch.tensor([5.5, 3], requires_grad=True)  # Tensor with gradient tracking\n",
    "y = torch.tensor([5.5, 3], requires_grad=False) # Tensor without gradient tracking\n",
    "\n",
    "# Perform an operation\n",
    "z = x.sum() + y.sum()\n",
    "print(\"Value of z:\", z.item())\n",
    "\n",
    "# Backward pass to compute gradients\n",
    "z.backward()\n",
    "\n",
    "# Print gradients\n",
    "print(\"Gradient for x (requires_grad=True):\", x.grad)\n",
    "print(\"Gradient for y (requires_grad=False):\", y.grad)"
   ]
  },
  {
   "cell_type": "code",
   "execution_count": 17,
   "id": "e6ee985a",
   "metadata": {},
   "outputs": [
    {
     "name": "stdout",
     "output_type": "stream",
     "text": [
      "tensor([[0.9986, 0.9142],\n",
      "        [0.4213, 0.7658]])\n",
      "tensor([[0.8177, 0.2493],\n",
      "        [0.8877, 0.5194]])\n",
      "tensor([[1.8163, 1.1635],\n",
      "        [1.3090, 1.2852]])\n"
     ]
    }
   ],
   "source": [
    "# Operations on Tensors\n",
    "y = torch.rand(2, 2)\n",
    "x = torch.rand(2, 2)\n",
    "print (x)\n",
    "print (y)\n",
    "# elementwise addition\n",
    "z = x + y\n",
    "# torch.add(x,y) \n",
    "print (z)"
   ]
  },
  {
   "cell_type": "code",
   "execution_count": 18,
   "id": "ff695b96",
   "metadata": {},
   "outputs": [
    {
     "name": "stdout",
     "output_type": "stream",
     "text": [
      "tensor([[0.7369, 0.3606],\n",
      "        [0.9906, 0.1060]])\n",
      "tensor([[0.9953, 0.8562],\n",
      "        [0.3625, 0.0099]])\n",
      "tensor([[-0.2585, -0.4956],\n",
      "        [ 0.6281,  0.0961]])\n"
     ]
    }
   ],
   "source": [
    "# subtraction\n",
    "y = torch.rand(2, 2)\n",
    "x = torch.rand(2, 2)\n",
    "print (x)\n",
    "print (y)\n",
    "z = x - y\n",
    "z = torch.sub(x, y)\n",
    "print (z)"
   ]
  },
  {
   "cell_type": "code",
   "execution_count": 19,
   "id": "4c2015d3",
   "metadata": {},
   "outputs": [
    {
     "name": "stdout",
     "output_type": "stream",
     "text": [
      "tensor([[0.5601, 0.1591],\n",
      "        [0.4636, 0.4394]])\n",
      "tensor([[0.8626, 0.0657],\n",
      "        [0.9865, 0.6749]])\n",
      "tensor([[0.4832, 0.0104],\n",
      "        [0.4574, 0.2966]])\n"
     ]
    }
   ],
   "source": [
    "# multiplication\n",
    "y = torch.rand(2, 2)\n",
    "x = torch.rand(2, 2)\n",
    "print (x)\n",
    "print (y)\n",
    "z = x * y\n",
    "z = torch.mul(x,y)\n",
    "print (z)\n"
   ]
  },
  {
   "cell_type": "code",
   "execution_count": 20,
   "id": "38d01bf3",
   "metadata": {},
   "outputs": [
    {
     "name": "stdout",
     "output_type": "stream",
     "text": [
      "tensor([[0.9033, 0.8558],\n",
      "        [0.8650, 0.6454]])\n",
      "tensor([[0.9727, 0.3998],\n",
      "        [0.0143, 0.6681]])\n",
      "tensor([[ 0.9287,  2.1406],\n",
      "        [60.6657,  0.9660]])\n"
     ]
    }
   ],
   "source": [
    "# division\n",
    "y = torch.rand(2, 2)\n",
    "x = torch.rand(2, 2)\n",
    "print (x)\n",
    "print (y)\n",
    "z1 = x / y\n",
    "z1 = torch.div(x,y)\n",
    "print(z1)"
   ]
  },
  {
   "cell_type": "code",
   "execution_count": 21,
   "id": "4458f271",
   "metadata": {},
   "outputs": [
    {
     "name": "stdout",
     "output_type": "stream",
     "text": [
      "Slicing\n",
      "tensor([[0.1561, 0.3913, 0.3510],\n",
      "        [0.3542, 0.5758, 0.6813],\n",
      "        [0.2402, 0.9190, 0.9829],\n",
      "        [0.5736, 0.8801, 0.6445],\n",
      "        [0.4977, 0.8069, 0.2295]])\n",
      "tensor([0.1561, 0.3542, 0.2402, 0.5736, 0.4977])\n",
      "tensor([0.3542, 0.5758, 0.6813])\n",
      "tensor(0.5758)\n",
      "0.5757880806922913\n"
     ]
    }
   ],
   "source": [
    "#Slicing\n",
    "x = torch.rand(5,3)\n",
    "print(\"Slicing\")\n",
    "print(x)\n",
    "print(x[:, 0]) # all rows, column 0\n",
    "print(x[1, :]) # row 1, all columns\n",
    "print(x[1,1]) # element at 1, 1\n",
    "\n",
    "# Get the actual value if only 1 element in your tensor\n",
    "print(x[1,1].item())"
   ]
  },
  {
   "cell_type": "code",
   "execution_count": 22,
   "id": "5a89e5b9",
   "metadata": {},
   "outputs": [
    {
     "name": "stdout",
     "output_type": "stream",
     "text": [
      "tensor([[ 0.5361,  1.6673, -0.7787, -0.3176],\n",
      "        [ 1.3707,  1.1793,  0.7998,  0.0828],\n",
      "        [ 1.5873,  0.0245,  0.4463,  1.4418],\n",
      "        [-0.0758,  1.2684, -0.7917, -0.7320]])\n",
      "tensor([ 0.5361,  1.6673, -0.7787, -0.3176,  1.3707,  1.1793,  0.7998,  0.0828,\n",
      "         1.5873,  0.0245,  0.4463,  1.4418, -0.0758,  1.2684, -0.7917, -0.7320])\n",
      "tensor([[ 0.5361,  1.6673, -0.7787, -0.3176,  1.3707,  1.1793,  0.7998,  0.0828],\n",
      "        [ 1.5873,  0.0245,  0.4463,  1.4418, -0.0758,  1.2684, -0.7917, -0.7320]])\n",
      "torch.Size([4, 4]) torch.Size([16]) torch.Size([2, 8])\n"
     ]
    }
   ],
   "source": [
    "# Reshape with torch.view()\n",
    "x = torch.randn(4, 4)\n",
    "y = x.view(16)\n",
    "z = x.view(-1, 8)  # the size -1 is inferred from other dimensions\n",
    "print(x)\n",
    "print(y)\n",
    "print(z)\n",
    "# if -1 it pytorch will automatically determine the necessary size\n",
    "print(x.size(), y.size(), z.size())"
   ]
  },
  {
   "cell_type": "code",
   "execution_count": 23,
   "id": "dc6e0972",
   "metadata": {},
   "outputs": [
    {
     "name": "stdout",
     "output_type": "stream",
     "text": [
      "tensor([1., 1., 1., 1., 1.])\n",
      "[1. 1. 1. 1. 1.]\n",
      "<class 'numpy.ndarray'>\n",
      "tensor([2., 2., 2., 2., 2.])\n",
      "[2. 2. 2. 2. 2.]\n"
     ]
    }
   ],
   "source": [
    "# Numpy\n",
    "a = torch.ones(5)\n",
    "print(a)\n",
    "\n",
    "b = a.numpy()\n",
    "print(b)\n",
    "print(type(b))\n",
    "\n",
    "# If the Tensor is on the CPU, they will share the same memory location\n",
    "a.add_(1)\n",
    "print(a)\n",
    "print(b)"
   ]
  },
  {
   "cell_type": "code",
   "execution_count": 24,
   "id": "cb4d415c",
   "metadata": {},
   "outputs": [
    {
     "name": "stdout",
     "output_type": "stream",
     "text": [
      "Numpy to Torch\n",
      "[1. 1. 1. 1. 1.]\n",
      "tensor([1., 1., 1., 1., 1.], dtype=torch.float64)\n"
     ]
    }
   ],
   "source": [
    "# Numpy to Torch\n",
    "print(\"Numpy to Torch\")\n",
    "import numpy as np\n",
    "a = np.ones(5)\n",
    "b = torch.from_numpy(a)\n",
    "print(a)\n",
    "print(b)\n"
   ]
  },
  {
   "cell_type": "code",
   "execution_count": 25,
   "id": "92eb3b05",
   "metadata": {},
   "outputs": [
    {
     "name": "stdout",
     "output_type": "stream",
     "text": [
      "[2. 2. 2. 2. 2.]\n",
      "tensor([2., 2., 2., 2., 2.], dtype=torch.float64)\n"
     ]
    }
   ],
   "source": [
    "#They also share same memory\n",
    "a += 1\n",
    "print(a)\n",
    "print(b)"
   ]
  },
  {
   "cell_type": "code",
   "execution_count": 26,
   "id": "35cfb478",
   "metadata": {},
   "outputs": [
    {
     "name": "stdout",
     "output_type": "stream",
     "text": [
      "Autograd Package\n",
      "tensor([3., 3., 3., 3.])\n",
      "tensor([3., 3., 3., 3.])\n",
      "tensor([3., 3., 3., 3.])\n",
      "tensor([0.1000, 0.1000, 0.1000, 0.1000], requires_grad=True)\n",
      "tensor(4.8000, grad_fn=<SumBackward0>)\n"
     ]
    }
   ],
   "source": [
    "# The Autograd Package\n",
    "print(\"Autograd Package\")\n",
    "weights = torch.ones(4, requires_grad=True)\n",
    "\n",
    "for epoch in range(3):\n",
    "    # just a dummy example\n",
    "    model_output = (weights*3).sum()\n",
    "    \n",
    "    model_output.backward()\n",
    "    print(weights.grad)\n",
    "\n",
    "    with torch.no_grad():\n",
    "        weights -= 0.1 * weights.grad\n",
    "\n",
    "    # this is important! It affects the final weights & output\n",
    "    weights.grad.zero_()\n",
    "\n",
    "print(weights)\n",
    "print(model_output)"
   ]
  }
 ],
 "metadata": {
  "kernelspec": {
   "display_name": "Python 3 (ipykernel)",
   "language": "python",
   "name": "python3"
  },
  "language_info": {
   "codemirror_mode": {
    "name": "ipython",
    "version": 3
   },
   "file_extension": ".py",
   "mimetype": "text/x-python",
   "name": "python",
   "nbconvert_exporter": "python",
   "pygments_lexer": "ipython3",
   "version": "3.10.9"
  }
 },
 "nbformat": 4,
 "nbformat_minor": 5
}
